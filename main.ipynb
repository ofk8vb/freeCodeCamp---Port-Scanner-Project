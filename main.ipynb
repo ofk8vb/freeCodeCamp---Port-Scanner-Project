{
 "cells": [
  {
   "cell_type": "code",
   "execution_count": null,
   "metadata": {},
   "outputs": [],
   "source": [
    "# This entrypoint file to be used in development. Start by reading README.md\n",
    "import port_scanner\n",
    "from unittest import main\n",
    "\n",
    "# Called with URL\n",
    "ports = port_scanner.get_open_ports(\"www.freecodecamp.org\", [75,85])\n",
    "print(\"Open ports:\", ports)\n",
    "\n",
    "# Called with ip address\n",
    "ports = port_scanner.get_open_ports(\"104.26.10.78\", [8079, 8090])\n",
    "print(\"Open ports:\", ports)\n",
    "\n",
    "# Verbose called with ip address and no host name returned -- single open port\n",
    "ports = port_scanner.get_open_ports(\"104.26.10.78\", [440, 450], True)\n",
    "print(ports + '\\n')\n",
    "\n",
    "# Verbose called with ip address and valid host name returned -- single open port\n",
    "ports = port_scanner.get_open_ports(\"137.74.187.104\", [440, 450], True)\n",
    "print(ports + '\\n')\n",
    "\n",
    "# Verbose called with host name -- multiple ports returned\n",
    "ports = port_scanner.get_open_ports(\"scanme.nmap.org\", [20, 80], True)\n",
    "print(ports + '\\n')\n",
    "\n",
    "# Run unit tests automatically\n",
    "main(module='test_module', exit=False)"
   ]
  }
 ],
 "metadata": {
  "kernelspec": {
   "display_name": "Python 3",
   "language": "python",
   "name": "python3"
  },
  "language_info": {
   "codemirror_mode": {
    "name": "ipython",
    "version": 3
   },
   "file_extension": ".py",
   "mimetype": "text/x-python",
   "name": "python",
   "nbconvert_exporter": "python",
   "pygments_lexer": "ipython3",
   "version": "3.8.5"
  }
 },
 "nbformat": 4,
 "nbformat_minor": 4
}
