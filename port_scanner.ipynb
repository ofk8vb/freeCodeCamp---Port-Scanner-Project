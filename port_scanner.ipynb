{
 "cells": [
  {
   "cell_type": "markdown",
   "metadata": {},
   "source": [
    "# Assignment\n",
    "Create a port scanner using Python.\n",
    "\n",
    "In the port_scanner.py file, create a function called get_open_ports that takes a target argument and a port_range argument. target can be a URL or IP address. port_range is a list of two numbers indicating the first and last numbers of the range of ports to check.\n",
    "\n",
    "Here are examples of how the function may be called:\n",
    "\n",
    "`get_open_ports(\"209.216.230.240\", [440, 445])`\n",
    "`get_open_ports(\"www.stackoverflow.com\", [79, 82])`\n",
    "`get_open_ports(\"209.216.230.240\", [440, 445])`\n",
    "`get_open_ports(\"www.stackoverflow.com\", [79, 82])`\n",
    "The function should return a list of open ports in the given range.\n",
    "\n",
    "The get_open_ports function should also take an optional third argument of True to indicate \"Verbose\" mode. If this is set to true, the function shourd return a descriptive string instead of a list of ports.\n",
    "\n",
    "Here is the format of the string that should be returned in verbose mode (text inside {} indicates the information that should appear):\n",
    "\n",
    "Open ports for scanme.nmap.org (45.33.32.156)\n",
    "\n",
    "PORT     SERVICE\n",
    "\n",
    "22       ssh\n",
    "\n",
    "80       http\n",
    "\n",
    "You can use the dictionary in common_ports.py to get the correct service name for each port.\n",
    "\n",
    "For example, if the function is called like this:\n",
    "\n",
    "`port_scanner.get_open_ports(\"scanme.nmap.org\", [20, 80], True)`\n",
    "`port_scanner.get_open_ports(\"scanme.nmap.org\", [20, 80], True)`\n",
    "It should return the following:\n",
    "\n",
    "Open ports for scanme.nmap.org (45.33.32.156)\n",
    "PORT     SERVICE\n",
    "22       ssh\n",
    "80       http\n",
    "Open ports for scanme.nmap.org (45.33.32.156)\n",
    "PORT     SERVICE\n",
    "22       ssh\n",
    "80       http\n",
    "Make sure to include proper spacing and new line characters.\n",
    "\n",
    "If the URL passed into the get_open_ports function is invalid, the function should return the string: \"Error: Invalid hostname\".\n",
    "\n",
    "If the IP address passed into the get_open_ports function is invalid, the function should return the string: \"Error: Invalid IP address\"."
   ]
  },
  {
   "cell_type": "code",
   "execution_count": 3,
   "metadata": {},
   "outputs": [],
   "source": [
    "import socket\n",
    "from common_ports import ports_and_services\n",
    "\n",
    "#\n",
    "def verbose_option(target,open_ports):\n",
    "    \"\"\"\n",
    "    Helper function for get_open_ports functions verbose option.\n",
    "    Will return a more verbose information about the ports found to be open using the ports_and_services dictionary\n",
    "    provided by FCC\n",
    "    \n",
    "    returns:\n",
    "    a string formatted in the way that was specified in \n",
    "    example:\n",
    "    \n",
    "    Open ports for scanme.nmap.org (45.33.32.156)\n",
    "    PORT SERVICE\n",
    "    22 ssh\n",
    "    80 http\n",
    "    \n",
    "    \"\"\"\n",
    "    domain = ''\n",
    "    ip = ''\n",
    "    \n",
    "    \n",
    "    # if target is ip address we must get the domain name\n",
    "    if ip_check(target):\n",
    "        domain = socket.gethostbyaddr(target)[0]\n",
    "        ip = target\n",
    "    else:\n",
    "        # hitting the else condition mean target was a domain name then we have to get the ip\n",
    "        ip = socket.gethostbyname(target)\n",
    "        domain = target\n",
    "    \n",
    "    # heading part of our string\n",
    "    heading_part = 'Open ports for {} ({})'.format(domain,ip)\n",
    "    heading_part += '\\nPORT SERVICE'\n",
    "    heading_part = heading_part.replace(r'\\n', '\\n') # escape characters only work with string literals so we are doing a string literal replace here\n",
    "    port_listing = []\n",
    "    port_listing.append(heading_part)\n",
    "    port_names=[]\n",
    "    count = 0\n",
    "    for port in open_ports:\n",
    "        if port in ports_and_services:\n",
    "            port_names.append(ports_and_services[port])\n",
    "        else:\n",
    "            port_names.append('unnamed port')\n",
    "        # start constructing the port listings    \n",
    "        port_string = str(port).ljust(4, ' ')\n",
    "        port_listing.append('/n{}     {}'.format(port_string, port_names[count]))\n",
    "        count += 1\n",
    "        \n",
    "        \n",
    "    \n",
    "    \n",
    "    \n",
    "    return \"\".join(port_listing)\n",
    "    \n",
    "\n",
    "# will check if the given ip is valid. e.g. doesn't have alphanumeric characters in between\n",
    "def ip_check(ip):\n",
    "    return not ip.split('.')[-1].isalpha() # check if there is an alphanumeric character between dots\n",
    "\n",
    "def get_open_ports(target, port_range,verbose=False):\n",
    "    \"\"\"\n",
    "     checks ports in the range given for the ip adress or url passed. if verbose option is set to True\n",
    "     \n",
    "     Example usage:\n",
    "     port_scanner.get_open_ports(\"scanme.nmap.org\", [20, 80], True)\n",
    "     \n",
    "     returns:\n",
    "     a list containing available ports like [22,80]\n",
    "     \n",
    "     if URL passed in is invalid returns 'Error: Invalid hostname'\n",
    "     if IP adress passed in is invalid returns 'Error: Invalid IP address'\n",
    "     \n",
    "    \"\"\"\n",
    "    open_ports=[]\n",
    "    ip = None\n",
    "    domain = None\n",
    "    \n",
    "    if ip_check(target): # first check if the target format matches ip format\n",
    "        try:\n",
    "            socket.inet_aton(target) # if no exception thrown it means target is a valid ip\n",
    "            ip = target\n",
    "        except:\n",
    "            return 'Error: Invalid IP address'\n",
    "    # opposite check means domain name is valid\n",
    "    else:\n",
    "        try:\n",
    "            ip = socket.gethostbyname(target) # if no exception thrown it means target is valid domain\n",
    "            domain = target\n",
    "        except socket.error:\n",
    "            return 'Error: Invalid hostname'\n",
    "\n",
    "    \n",
    "   # Get all open ports in the given range.\n",
    "    for port in range(port_range[0], port_range[1]):\n",
    "        s = socket.socket(socket.AF_INET, socket.SOCK_STREAM)\n",
    "        s.settimeout(5)\n",
    "        if not s.connect_ex((ip, port)):\n",
    "            open_ports.append(port)\n",
    "        s.close()\n",
    "\n",
    "    if not verbose:\n",
    "        return open_ports # if verbose is false exit the function here\n",
    "    \n",
    "    # function continues if verbose was set to True\n",
    "    return verbose_option(target,open_ports)\n"
   ]
  },
  {
   "cell_type": "code",
   "execution_count": null,
   "metadata": {},
   "outputs": [],
   "source": [
    "get_open_ports(\"20h.216.230.240\", [440, 445])"
   ]
  },
  {
   "cell_type": "code",
   "execution_count": null,
   "metadata": {},
   "outputs": [],
   "source": [
    "get_open_ports(\"209.216.230.240\", [440, 445])"
   ]
  },
  {
   "cell_type": "code",
   "execution_count": null,
   "metadata": {},
   "outputs": [],
   "source": [
    "get_open_ports(\"www.stackoverflow.com\", [79, 82],verbose=True)"
   ]
  },
  {
   "cell_type": "code",
   "execution_count": null,
   "metadata": {},
   "outputs": [],
   "source": [
    "get_open_ports(\"266.255.9.10\", [22, 42], False)"
   ]
  },
  {
   "cell_type": "code",
   "execution_count": null,
   "metadata": {},
   "outputs": [],
   "source": [
    "# def test_port_scanner_verbose_hostname_multiple_ports(self):\n",
    "#         str = port_scanner.get_open_ports(\"scanme.nmap.org\", [20, 80], True)\n",
    "#         actual = str\n",
    "#         expected = \"Open ports for scanme.nmap.org (45.33.32.156)\\nPORT     SERVICE\\n22       ssh\\n80       http\"\n",
    "#         self.assertEqual(actual, expected, \"Expected 'Open ports for scanme.nmap.org (45.33.32.156)\\nPORT     SERVICE\\n22       ssh\\n80       http'\")"
   ]
  },
  {
   "cell_type": "code",
   "execution_count": 4,
   "metadata": {},
   "outputs": [
    {
     "data": {
      "text/plain": [
       "'Open ports for scanme.nmap.org (45.33.32.156)\\nPORT SERVICE/n22       ssh/n25       smtp'"
      ]
     },
     "execution_count": 4,
     "metadata": {},
     "output_type": "execute_result"
    }
   ],
   "source": [
    "get_open_ports(\"scanme.nmap.org\", [20, 80], True)"
   ]
  },
  {
   "cell_type": "code",
   "execution_count": null,
   "metadata": {},
   "outputs": [],
   "source": []
  }
 ],
 "metadata": {
  "kernelspec": {
   "display_name": "Python 3",
   "language": "python",
   "name": "python3"
  },
  "language_info": {
   "codemirror_mode": {
    "name": "ipython",
    "version": 3
   },
   "file_extension": ".py",
   "mimetype": "text/x-python",
   "name": "python",
   "nbconvert_exporter": "python",
   "pygments_lexer": "ipython3",
   "version": "3.8.5"
  }
 },
 "nbformat": 4,
 "nbformat_minor": 4
}
