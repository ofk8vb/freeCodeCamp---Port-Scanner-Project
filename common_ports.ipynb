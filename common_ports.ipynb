{
 "cells": [
  {
   "cell_type": "code",
   "execution_count": null,
   "metadata": {},
   "outputs": [],
   "source": [
    "ports_and_services = {\n",
    "    7: 'echo',\n",
    "    20: 'ftp',\n",
    "    21: 'ftp',\n",
    "    22: 'ssh',\n",
    "    23: 'telnet',\n",
    "    25: 'smtp',\n",
    "    43: 'whois',\n",
    "    53: 'dns',\n",
    "    67: 'dhcp',\n",
    "    68: 'dhcp',\n",
    "    80: 'http',\n",
    "    110: 'pop3',\n",
    "    123: 'ntp',\n",
    "    137: 'netbios',\n",
    "    138: 'netbios',\n",
    "    139: 'netbios',\n",
    "    143: 'imap4',\n",
    "    443: 'https',\n",
    "    513: 'rlogin',\n",
    "    540: 'uucp',\n",
    "    554: 'rtsp',\n",
    "    587: 'smtp',\n",
    "    873: 'rsync',\n",
    "    902: 'vmware',\n",
    "    989: 'ftps',\n",
    "    990: 'ftps',\n",
    "    1194: 'openvpn',\n",
    "    3306: 'mysql',\n",
    "    5000: 'unpn',\n",
    "    8080: 'https-proxy',\n",
    "    8443: 'https-alt'\n",
    "}\n"
   ]
  }
 ],
 "metadata": {
  "kernelspec": {
   "display_name": "Python 3",
   "language": "python",
   "name": "python3"
  },
  "language_info": {
   "codemirror_mode": {
    "name": "ipython",
    "version": 3
   },
   "file_extension": ".py",
   "mimetype": "text/x-python",
   "name": "python",
   "nbconvert_exporter": "python",
   "pygments_lexer": "ipython3",
   "version": "3.8.5"
  }
 },
 "nbformat": 4,
 "nbformat_minor": 4
}
