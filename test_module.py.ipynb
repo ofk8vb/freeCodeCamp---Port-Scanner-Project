{
 "cells": [
  {
   "cell_type": "code",
   "execution_count": null,
   "metadata": {},
   "outputs": [],
   "source": [
    "import unittest\n",
    "import port_scanner\n",
    "\n",
    "print(\"***Tests***\")\n",
    "class UnitTests(unittest.TestCase):\n",
    "    def test_port_scanner_ip(self):\n",
    "        ports = port_scanner.get_open_ports(\"209.216.230.240\", [440, 445], False)\n",
    "        actual = ports\n",
    "        expected = [443]\n",
    "        self.assertEqual(actual, expected, 'Expected scanning ports of IP address to return [443].')\n",
    "\n",
    "    def test_port_scanner_url(self):\n",
    "        ports = port_scanner.get_open_ports(\"www.stackoverflow.com\", [79, 82], False)\n",
    "        actual = ports\n",
    "        expected = [80]\n",
    "        self.assertEqual(actual, expected, 'Expected scanning ports of URL address to return [80].')\n",
    "  \n",
    "    def test_port_scanner_url_multiple_ports(self):\n",
    "        ports = port_scanner.get_open_ports(\"scanme.nmap.org\", [20, 80], False)\n",
    "        actual = ports\n",
    "        expected = [22, 80]\n",
    "        self.assertEqual(actual, expected, 'Expected scanning ports of URL address to return [22, 80].')\n",
    "\n",
    "    def test_port_scanner_verbose_ip_no_hostname_returned_single_port(self):\n",
    "        str = port_scanner.get_open_ports(\"104.26.10.78\", [440, 450], True)\n",
    "        actual = str\n",
    "        expected = \"Open ports for 104.26.10.78\\nPORT     SERVICE\\n443      https\"\n",
    "        self.assertEqual(actual, expected, \"Expected 'Open ports for 104.26.10.78\\nPORT     SERVICE\\n443      https'\")\n",
    "\n",
    "    def test_port_scanner_verbose_ip_hostname_returned_multiple_ports(self):\n",
    "        str = port_scanner.get_open_ports(\"137.74.187.104\", [440, 450], True)\n",
    "        actual = str\n",
    "        expected = \"Open ports for hackthissite.org (137.74.187.104)\\nPORT     SERVICE\\n443      https\"\n",
    "        self.assertEqual(actual, expected, \"Expected 'Open ports for hackthissite.org (137.74.187.104)\\nPORT     SERVICE\\n443      https'\")\n",
    "\n",
    "    def test_port_scanner_verbose_hostname_multiple_ports(self):\n",
    "        str = port_scanner.get_open_ports(\"scanme.nmap.org\", [20, 80], True)\n",
    "        actual = str\n",
    "        expected = \"Open ports for scanme.nmap.org (45.33.32.156)\\nPORT     SERVICE\\n22       ssh\\n80       http\"\n",
    "        self.assertEqual(actual, expected, \"Expected 'Open ports for scanme.nmap.org (45.33.32.156)\\nPORT     SERVICE\\n22       ssh\\n80       http'\")\n",
    "\n",
    "    def test_port_scanner_invalid_hostname(self):\n",
    "        err = port_scanner.get_open_ports(\"scanme.nmap\", [22, 42], False)\n",
    "        actual = err\n",
    "        expected = \"Error: Invalid hostname\"\n",
    "        self.assertEqual(actual, expected, \"Expected 'Error: Invalid hostname'\")\n",
    "  \n",
    "    def test_port_scanner_invalid_ip_address(self):\n",
    "        err = port_scanner.get_open_ports(\"266.255.9.10\", [22, 42], False)\n",
    "        actual = err\n",
    "        expected = \"Error: Invalid IP address\"\n",
    "        self.assertEqual(actual, expected, \"Expected 'Error: Invalid IP address'\")\n",
    "\n",
    "if __name__ == \"__main__\":\n",
    "    unittest.main()"
   ]
  }
 ],
 "metadata": {
  "kernelspec": {
   "display_name": "Python 3",
   "language": "python",
   "name": "python3"
  },
  "language_info": {
   "codemirror_mode": {
    "name": "ipython",
    "version": 3
   },
   "file_extension": ".py",
   "mimetype": "text/x-python",
   "name": "python",
   "nbconvert_exporter": "python",
   "pygments_lexer": "ipython3",
   "version": "3.8.5"
  }
 },
 "nbformat": 4,
 "nbformat_minor": 4
}
